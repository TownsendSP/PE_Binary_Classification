{
 "cells": [
  {
   "cell_type": "code",
   "execution_count": 86,
   "outputs": [],
   "source": [
    "import torch\n",
    "import torch.nn as nn\n",
    "import torch.optim as optim\n",
    "from torch.utils.data import DataLoader\n",
    "import pefile\n",
    "import sqlite3\n",
    "from dataLoader_Wrapper import *\n",
    "from BinaryClassifier import *\n",
    "import random\n",
    "import torch\n",
    "from torch.utils.data import Dataset, DataLoader, random_split"
   ],
   "metadata": {
    "collapsed": false,
    "ExecuteTime": {
     "end_time": "2023-06-20T20:26:02.304887300Z",
     "start_time": "2023-06-20T20:26:02.272889300Z"
    }
   }
  },
  {
   "cell_type": "code",
   "execution_count": 87,
   "outputs": [],
   "source": [
    "dataThing = da.DataAcquirer('H:/Datasets/Bigger_dataset/data.sqlite', 'H:/Datasets/Bigger_dataset/dataset/')\n",
    "dataThing.bootup()\n",
    "def dataGetter(dataThing, numChunks=100, chunkLength=1000):\n",
    "    num_chunks = numChunks\n",
    "    chunk_length = chunkLength\n",
    "    x86rows = dataThing.filter('binaries', 'platform', 'x86')\n",
    "    x64rows = dataThing.filter('binaries', 'platform', 'x64')\n",
    "    print(\"Getting file info\")\n",
    "    x86file_info = dataThing.getFileInfo(x86rows)\n",
    "    x64file_info = dataThing.getFileInfo(x64rows)\n",
    "    print(\"Got file info\")\n",
    "    #     randomly select n files from the list\n",
    "    x86chunkList = extractChunks(x86file_info, chunk_length, num_chunks)\n",
    "    x64chunkList = extractChunks(x64file_info, chunk_length, num_chunks)\n",
    "    print(\"Extracted chunks\")\n",
    "    print(f'x86 chunks: {len(x86chunkList)}')\n",
    "    print(f'x64 chunks: {len(x64chunkList)}')\n",
    "    return x86chunkList, x64chunkList\n",
    "\n",
    "x86chunkList, x64chunkList = dataGetter(dataThing, 1000, 1000)\n",
    "\n",
    "dataset = BinaryClassificationDataset(x86chunkList, x64chunkList)\n",
    "train_size = int(0.8 * len(dataset))\n",
    "test_size = len(dataset) - train_size\n",
    "train_dataset, test_dataset = random_split(dataset, [train_size, test_size])\n"
   ],
   "metadata": {
    "collapsed": false,
    "ExecuteTime": {
     "end_time": "2023-06-20T20:26:03.088889600Z",
     "start_time": "2023-06-20T20:26:02.279889Z"
    }
   }
  },
  {
   "cell_type": "code",
   "execution_count": 88,
   "outputs": [
    {
     "name": "stdout",
     "output_type": "stream",
     "text": [
      "Getting file info\n",
      "Got file info\n"
     ]
    }
   ],
   "source": [
    "device = torch.device(\"cuda:0\" if torch.cuda.is_available() else \"cpu\")\n",
    "print(f\"Using {device} for training\")\n",
    "model = BinaryClassifier().to(device)\n",
    "optimizer = optim.Adam(model.parameters(), lr=0.001)\n",
    "criterion = nn.BCELoss()\n",
    "\n"
   ],
   "metadata": {
    "collapsed": false,
    "ExecuteTime": {
     "end_time": "2023-06-20T20:26:04.468889100Z",
     "start_time": "2023-06-20T20:26:03.089889200Z"
    }
   }
  },
  {
   "cell_type": "code",
   "execution_count": 89,
   "outputs": [
    {
     "name": "stdout",
     "output_type": "stream",
     "text": [
      "length of x86chunkList: 1000\n",
      "size of x86chunkList[0]: 86\n",
      "Extracted chunks\n",
      "x86 chunks: 1000\n",
      "x64 chunks: 1000\n",
      "length of x86chunkList: 1000\n",
      "size of x86chunkList[0]: 76\n",
      "Extracted chunks\n",
      "x86 chunks: 1000\n",
      "x64 chunks: 1000\n"
     ]
    }
   ],
   "source": [
    "# initialize the data loaders\n",
    "train_loader = DataLoader(train_dataset, batch_size=32, shuffle=True)\n",
    "test_loader = DataLoader(test_dataset, batch_size=32, shuffle=True)\n"
   ],
   "metadata": {
    "collapsed": false
   }
  },
  {
   "cell_type": "code",
   "execution_count": 83,
   "outputs": [],
   "source": [
    "# train the model\n",
    "num_epochs = 10\n",
    "for epoch in range(num_epochs):\n",
    "    for i, (x, y) in enumerate(train_loader):\n",
    "        x = x.to(device)\n",
    "        y = y.to(device)\n",
    "        # forward pass\n",
    "        scores = model(x)\n",
    "        loss = criterion(scores, y)\n",
    "        # backward pass\n",
    "        optimizer.zero_grad()\n",
    "        loss.backward()\n",
    "        # gradient descent or adam step\n",
    "        optimizer.step()\n",
    "    print(f\"Epoch {epoch} | Loss: {loss.item()}\")\n"
   ],
   "metadata": {
    "collapsed": false
   }
  },
  {
   "cell_type": "code",
   "execution_count": 84,
   "outputs": [
    {
     "name": "stdout",
     "output_type": "stream",
     "text": [
      "length of chunks: 1000\n",
      "length of chunks[-1]: 20\n",
      "datatype of first element of chunks: <class 'list'>\n"
     ]
    }
   ],
   "source": [
    "# save the model\n",
    "torch.save(model.state_dict(), \"model.ckpt\")\n",
    "print(f\"Model saved to model.ckpt\")"
   ],
   "metadata": {
    "collapsed": false
   }
  },
  {
   "cell_type": "code",
   "execution_count": 85,
   "outputs": [
    {
     "name": "stdout",
     "output_type": "stream",
     "text": [
      "Using cuda:0 for training\n"
     ]
    }
   ],
   "source": [
    "# test the model and generate ROC curve and conf mat\n",
    "from sklearn.metrics import roc_curve, roc_auc_score, confusion_matrix\n",
    "import matplotlib.pyplot as plt\n",
    "import seaborn as sns\n",
    "import numpy as np\n",
    "import pandas as pd\n",
    "\n",
    "model = BinaryClassifier().to(device)\n",
    "model.load_state_dict(torch.load(\"model.ckpt\"))\n",
    "\n",
    "print(\"Testing model\")\n",
    "test_loader = DataLoader(test_dataset, batch_size=32, shuffle=True)\n",
    "# the precedi"
   ],
   "metadata": {
    "collapsed": false
   }
  }
 ],
 "metadata": {
  "kernelspec": {
   "display_name": "Python 3",
   "language": "python",
   "name": "python3"
  },
  "language_info": {
   "codemirror_mode": {
    "name": "ipython",
    "version": 2
   },
   "file_extension": ".py",
   "mimetype": "text/x-python",
   "name": "python",
   "nbconvert_exporter": "python",
   "pygments_lexer": "ipython2",
   "version": "2.7.6"
  }
 },
 "nbformat": 4,
 "nbformat_minor": 0
}
